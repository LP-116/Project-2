{
 "cells": [
  {
   "cell_type": "code",
   "execution_count": 1,
   "metadata": {},
   "outputs": [],
   "source": [
    "from bs4 import BeautifulSoup as bs\n",
    "from splinter import Browser\n",
    "from webdriver_manager.chrome import ChromeDriverManager\n",
    "import pymongo\n",
    "import pandas as pd\n",
    "import json\n",
    "#from odo import odo"
   ]
  },
  {
   "cell_type": "code",
   "execution_count": 2,
   "metadata": {},
   "outputs": [],
   "source": [
    "conn = 'mongodb://localhost:27017'\n",
    "client = pymongo.MongoClient(conn)"
   ]
  },
  {
   "cell_type": "code",
   "execution_count": 3,
   "metadata": {},
   "outputs": [],
   "source": [
    "db = client.headlinesDB\n",
    "collection= db.headlinesDB"
   ]
  },
  {
   "cell_type": "code",
   "execution_count": 4,
   "metadata": {},
   "outputs": [
    {
     "name": "stderr",
     "output_type": "stream",
     "text": [
      "\n",
      "\n",
      "====== WebDriver manager ======\n",
      "Current google-chrome version is 93.0.4577\n",
      "Get LATEST driver version for 93.0.4577\n",
      "Driver [C:\\Users\\leann\\.wdm\\drivers\\chromedriver\\win32\\93.0.4577.63\\chromedriver.exe] found in cache\n"
     ]
    }
   ],
   "source": [
    "executable_path = {'executable_path': ChromeDriverManager().install()}\n",
    "browser = Browser('chrome', **executable_path, headless=False)"
   ]
  },
  {
   "cell_type": "code",
   "execution_count": 5,
   "metadata": {},
   "outputs": [],
   "source": [
    "url='https://www.news.com.au/national/victoria/crime'\n",
    "browser.visit(url)"
   ]
  },
  {
   "cell_type": "code",
   "execution_count": 6,
   "metadata": {},
   "outputs": [],
   "source": [
    "html = browser.html\n",
    "soup = bs(html, 'html.parser')\n",
    "#print(soup.prettify())"
   ]
  },
  {
   "cell_type": "code",
   "execution_count": 9,
   "metadata": {},
   "outputs": [],
   "source": [
    "# date_time = soup.find('body').find('div', class_='header_date-bar_now').text\n",
    "# print(date_time)"
   ]
  },
  {
   "cell_type": "code",
   "execution_count": 7,
   "metadata": {},
   "outputs": [
    {
     "name": "stdout",
     "output_type": "stream",
     "text": [
      "['Wife of murdered woman’s lover ‘never knew’', 'Thieves steal $8m worth of cigarettes', 'Mum, son likely dead in ‘evil spirits’ mystery', 'Police called to Porsche driver’s home', 'Family’s plea after horror stabbing', 'Doctor traumatised by fatal home birth', '‘Frightening’ shooting at suburban Macca’s', 'Cops fine ‘all adults’ at synagogue gathering', 'Caravan park murder accused ‘distressed’', 'Multiple suspects in bookshop murder: Court', 'Fatal stabbing in caravan park: cops', 'Mum’s shock death after homebirth', 'Anti-vax leader is a reality TV flop', 'Blow in warring exes defamation trial', 'Cruel act to snatch Maccas meal: cops', 'Home-birth midwives deny claims after death', 'Kids karate teacher’s sick acts on student', 'Seven arrests in suspected bikie murder', 'New twist in woman’s suspected murder', 'New push to solve brutal schoolgirl murder', '46 arrests, machetes seized: cops', 'Cops hit in frightening ‘hate crime’', 'Vocal anti-vaxxer’s shock court move', 'Woman’s gesture to alleged gang murderer', 'Axe attackers of hero dad still on the run', '‘No excuse’: Footy star fined for driving', 'Hunt for rapist after 30 years of freedom', 'Man’s sick words before walking path rapes', '‘Rot in hell’: Family interrupts murder hearing', 'Protesters’ chilling posts targeting cops']\n"
     ]
    }
   ],
   "source": [
    "headline_list = []\n",
    "\n",
    "headlines = soup.find_all('a', class_='storyblock_title_link')\n",
    "\n",
    "for headline in headlines: \n",
    "        title= headline.text.strip()\n",
    "        headline_list.append(title)\n",
    "print(headline_list)"
   ]
  },
  {
   "cell_type": "code",
   "execution_count": 17,
   "metadata": {},
   "outputs": [
    {
     "name": "stdout",
     "output_type": "stream",
     "text": [
      "['https://www.news.com.au/national/victoria/crime/cops-called-to-richard-puseys-fitzroy-home-over-loud-music-and-yelling/news-story/1d0ecfcc09ac3073977ecf7818422330', 'https://www.news.com.au/national/victoria/crime/daughter-of-stabbed-man-chris-lyons-starts-fundraiser/news-story/781e1ed20da9deef841c0ab613d90a0e', 'https://www.news.com.au/national/victoria/courts-law/treating-caroline-lovell-after-fatal-homebirth-traumatic-for-doctor/news-story/98f3f02d54c2ea18fd6552d396076ce5', 'https://www.news.com.au/national/victoria/courts-law/cruz-noonan-jailed-for-shooting-at-police-at-sunbury-mcdonalds/news-story/1b9d8b6f7e787499fdf4c7fca5ec95b8', 'https://www.news.com.au/national/victoria/crime/cops-surround-melbourne-synagogue-as-dozens-of-worshippers-allegedly-breach-lockdown/news-story/d5e90bdbc4de33d73386e1a59d22d37c', 'https://www.news.com.au/national/victoria/crime/man-charged-over-stabbing-death-of-father-in-dandenong-caravan-park/news-story/2d563037734ca8975aa7c3af40398226', 'https://www.news.com.au/national/victoria/courts-law/sons-search-for-answers-in-bookshop-murder-as-inquest-begins/news-story/c02441990547bf031ae2fe1be9ee2ebd', 'https://www.news.com.au/national/victoria/crime/man-under-police-guard-in-hospital-after-stabbing-death-in-dandenong-south-caravan-park/news-story/4256440271c649d59c3743628877a228', 'https://www.news.com.au/national/victoria/courts-law/motherinlaw-recounts-womans-shock-death-after-giving-birth-at-home/news-story/e771d2ab4902942c6f776c727f4d8515', 'https://www.news.com.au/technology/online/social/how-reality-tv-wannabe-became-melbourne-antivax-leader-arrested-by-police/news-story/886946b45390bfa3fa2c8861f716f866', 'https://www.news.com.au/national/victoria/courts-law/defamation-trial-between-warring-exes-on-hold-due-to-covid19/news-story/d6c839e84ad69844800448b7dff73305', 'https://www.news.com.au/national/victoria/crime/man-allegedly-stabbed-at-essendon-mcdonalds-and-has-fast-food-stolen/news-story/0da3b9477d3185db406456949fa626d4', 'https://www.news.com.au/national/victoria/courts-law/homebirth-midwives-fight-negligence-charges-after-death-of-patient/news-story/bd1f125c82b5e21bddbf092e6941d59d', 'https://www.news.com.au/national/victoria/courts-law/kids-karate-teacher-lachlan-howard-jailed-for-sick-acts-on-student/news-story/2e1ec39278435a3ea0c252ed9b2131a5', 'https://www.news.com.au/national/victoria/crime/seven-people-arrested-in-suspected-murder-of-bikie-associate-kerry-giakoumis/news-story/61fd6590d6539ad3ab336a86bb3a16c7', 'https://www.news.com.au/national/victoria/crime/second-man-arrested-in-suspected-murder-of-missing-woman-maryam-hamka/news-story/32b01be983463317fd444224993ae198', 'https://www.news.com.au/national/victoria/crime/police-announce-1m-reward-to-help-solve-1978-murder-of-schoolgirl-denise-mcgregor/news-story/119c6d56974f7aacbd06b6aa67184dcb', 'https://www.news.com.au/national/victoria/crime/dozens-arrested-in-violent-crime-blitz-across-melbournes-northern-and-western-suburbs/news-story/bfb8874b922d8ecce9595b904abc58fd', 'https://www.news.com.au/technology/online/social/nazi-swastika-graffitied-on-emerald-police-station/news-story/57bdf9a996ee4987970850dbcff9bc59', 'https://www.news.com.au/national/victoria/crime/antivaxxer-and-antilockdown-activist-monica-smit-charged-with-incitement/news-story/dd17be970ebbf3d4d533b404cca852fb', 'https://www.news.com.au/national/victoria/courts-law/one-of-11-alleged-gang-murderers-of-15yearold-bailed/news-story/485ea99eaaa60eef6eb7c8012dab6d3d', 'https://www.news.com.au/national/victoria/crime/search-for-three-thugs-who-attacked-hero-dad-with-axe-in-cranbourne-north/news-story/661ee034568e3e6e27c3e8cd410fddca', 'https://www.news.com.au/sport/afl/no-excuse-collingwood-star-jordan-de-goey-fined-for-driving/news-story/dae520f44d3db1ea4862b9291f3474fb', 'https://www.news.com.au/national/victoria/crime/police-hunt-second-rapist-involved-in-ballarat-1990-cold-case/news-story/d72ed6c4caff81ebad2d5eb06f783858', 'https://www.news.com.au/national/victoria/courts-law/justin-mathiesons-sick-words-before-elwood-walking-path-rapes/news-story/a27d286fe7bea7cf34770a797aa8e60c', 'https://www.news.com.au/national/victoria/courts-law/rot-in-hell-family-interrupts-court-hearing-of-murder-accused/news-story/676e9e553107fe2f6490f4f009822f22', 'https://www.news.com.au/technology/online/social/antilockdown-protesters-post-personal-details-of-police-officers-online/news-story/718870334bb4efe52b280630678f770c', 'https://www.news.com.au/national/victoria/crime/driver-charged-over-alleged-hit-and-run-death-of-young-alexandra-footballer-jordan-purcell/news-story/b92f49f92a7a0780b7f3ba97e98a0f8d', 'https://www.news.com.au/national/victoria/crime/boyfriend-of-missing-brunswick-woman-maryam-hamka-charged-with-murder/news-story/02dba97d77b629022093687c7fc5cfea', 'https://www.news.com.au/national/victoria/crime/melbourne-antilockdown-protesters-sought-by-police-pictured/news-story/d1b5eb8ad45b8829f531e58b257b13a9']\n"
     ]
    }
   ],
   "source": [
    "link_list = []\n",
    "\n",
    "results = soup.find_all('h4', class_='storyblock_title')\n",
    "\n",
    "for result in results:\n",
    "    link = result.a['href']\n",
    "    link_list.append(link)\n",
    "\n",
    "print(link_list)"
   ]
  },
  {
   "cell_type": "code",
   "execution_count": 18,
   "metadata": {},
   "outputs": [
    {
     "name": "stdout",
     "output_type": "stream",
     "text": [
      "['Police have been called to Porsche driver Richard Pusey’s inner city warehouse apartment after receiving reports from neighbours.', 'The daughter of a man who was stabbed to death at a caravan park says their family has been left ‘with nothing’.', 'Two homebirth midwives charged with causing a patient’s death have heard of a doctor’s distress in treating the dying mum when she reached hospital.', 'A man has been jailed for a ‘frightening’ act at a suburban McDonald’s that led to police taking cover in the manager’s office.', 'Dozens of Jewish worshippers at a Melbourne synagogue have been fined as wild scenes saw some people scale buildings and confront police.', 'A man charged over the gruesome death of a Melbourne father has appeared distressed in court,  at some points seemingly retching.', 'A woman was brutally stabbed 68 times behind a Melbourne bookshop, and investigators say there are six men who are persons of interest.', 'A man had died after being fatally stabbed at a caravan park in Melbourne’s outer south overnight.', 'A mother-in-law has recounted the heartbreaking moment a woman died after giving birth at home, with her midwives now facing court.', 'A reality TV wannabe from Melbourne always dreamed of getting attention. She has it now, making headlines as an anti-vaxxer in prison.', 'A man suing his ex for defamation over allegations he is a dangerous sex addict has been hit by a Covid-19 holdup, a court has been told.', 'A man has been left with potentially life-threatening injuries after he was allegedly stabbed over his Maccas meal.', 'Two midwives are fighting negligence charges over the death of a 36-year-old woman who gave birth in a pool of water under their guidance.', 'A karate teacher has been jailed for repulsive sex acts with a young female student who shared powerful words about her trauma with a court.', 'Police have made a major breakthrough in the suspected murder of a Hells Angels bikie associate, with seven people arrested in Melbourne.', 'New details have emerged about what happened to missing Melbourne woman Maryam Hamka after a second man was charged in connection to her suspected murder.', 'Police are ramping up efforts to solve the brutal murder of a 13-year-old schoolgirl who was snatched off the street, raped and bashed to death.', 'Dozens of people have been busted during a violent crime blitz in Melbourne, with a number of those allegedly linked to youth street gangs.', 'Police in Melbourne have become the target of a frightening hate crime as tension mounts at authorities during the state’s sixth lockdown.', 'A former reality TV wannabe turned vocal anti-vaxxer has made a shock decision in court after she was granted bail for allegedly inciting protests.', 'A man charged with murder of a 15-year-old boy  in a horror fight against 11 people has been granted bail after an offer by a woman he has never met in person.', 'Three men who attacked a Melbourne dad with an axe when he heroically jumped the fence to save his neighbour are still on the run months later.', 'A star footballer has been fined for seven driving offences, with a magistrate saying the Collingwood player offered no excuse.', 'A new appeal has been launched to track down a rapist who has enjoyed 30 years of freedom after a sickening attack on a mum of five.', 'A predator who grabbed women from walking paths in one of Melbourne’s ritziest suburbs made sick statements during his horrifying acts.', 'The family of a missing woman allegedly murdered by her boyfriend have used his first court hearing to speak directly to him with one demand.', 'Anti-lockdown protesters have taken their fight against police online, with chilling messages including the personal details of individual officers surfacing.', 'A driver who police allege left a young footballer for dead on the side of the road in the middle of the night has been charged.', 'Detectives have laid a murder charge against the boyfriend of a Melbourne woman who was last seen at a Woolworths store in April.', 'Police have released photos of eight anti-lockdown protesters they wish to speak to about incidents at a rally in Melbourne.']\n"
     ]
    }
   ],
   "source": [
    "paragraph_list = []\n",
    "\n",
    "# paragraphs = soup.find_all('p')\n",
    "\n",
    "# for paragraph in paragraphs:\n",
    "    \n",
    "#     description = paragraph.text\n",
    "#paragraph_list.append(description)\n",
    "\n",
    "# print(paragraph_list)\n",
    "for item in soup.find_all('p', class_=\"storyblock_standfirst g_font-body-s\"):\n",
    "    about= item.text.strip()\n",
    "    paragraph_list.append(about)\n",
    "print(paragraph_list)\n",
    "#about = soup.find('p', class_='storyblock_standfirst g_font-body-s').text\n",
    "#result2 = soup.find('p', class_='storyblock_standfirst g_font-body-s')\n",
    "#about= result.text.strip()\n",
    "#about_only = result.p\n"
   ]
  },
  {
   "cell_type": "code",
   "execution_count": 23,
   "metadata": {},
   "outputs": [
    {
     "name": "stdout",
     "output_type": "stream",
     "text": [
      "['https://www.news.com.au/wp-content/themes/newscorpau-news-dna/dist/images/logos/news.svg', 'https://content.api.news/v3/images/bin/0b64ac1ca0b2109f51683fe455ffd98a', 'https://content.api.news/v3/images/bin/df0c1be156bed6c7a961cbb7f69903e4', 'https://content.api.news/v3/images/bin/cc7d8170fa0f2f5e0a0388f20f76bdbb', 'https://content.api.news/v3/images/bin/9c3b902c7ff6149cdb2308df4bc4a98c', 'https://content.api.news/v3/images/bin/6fcb313d047f271828b4f53d76fda5ae', 'https://content.api.news/v3/images/bin/9fb055b7b5aa0b9b4e17584623285fb7', 'https://content.api.news/v3/images/bin/1e45c777f49d08589b8b7ae6c574f606', 'https://content.api.news/v3/images/bin/998047ed2c98a61f5a30ea7c1bd61ac5', 'https://content.api.news/v3/images/bin/f519e32b4dc7fca42ce9ce73cf0fae91', 'https://content.api.news/v3/images/bin/0d8110e7a30981099ea14aef3239dff9', 'https://content.api.news/v3/images/bin/341ffbf2b03c958a5ec1f1a807bc696f', 'https://content.api.news/v3/images/bin/3dbe98f9765af665a1e80d4b91e1fe4f', 'https://content.api.news/v3/images/bin/a3c0e9ba551b4048c7f7359e438322ce', 'https://content.api.news/v3/images/bin/cb25dc7ccd06cf7ab5e016e861f3156f', 'https://content.api.news/v3/images/bin/a11344ffd2a5f95334db439b43d25566', None, None, None, None, None, None, None, None, None, None, None, None, None, None, None, 'https://www.news.com.au/wp-content/themes/newscorpau-news-dna/dist/images/logos/news.svg']\n"
     ]
    }
   ],
   "source": [
    "#image_elem = soup.find(\"img\", class_=\"responsive-img_img storyblock_img\").get(\"src\")\n",
    "\n",
    "# page = soup.find_all(\"section\", attrs:{class_='site-content', )\n",
    "\n",
    "# images = page.find(\"span\", class_=\"storyblock_meta\").get(\"src\")\n",
    "\n",
    "# # print(images)\n",
    "# image_list= []\n",
    "# for item in soup.find_all('img'):\n",
    "#     image = item.get(\"src\")\n",
    "#     image_list.append(image) \n",
    "#     #print(item['src'])\n",
    "# print(image_list)"
   ]
  },
  {
   "cell_type": "code",
   "execution_count": 19,
   "metadata": {},
   "outputs": [],
   "source": [
    "# data = {\n",
    "#         \"headline\": title,\n",
    "#         \"url\": link,\n",
    "#         \"description\": about,\n",
    "#         \"image\": image\n",
    "#      }\n",
    "\n",
    "# print(data)\n",
    "\n",
    "dict = {'Headline':headline_list, 'URL':link_list, 'Description':paragraph_list}\n",
    "\n",
    "df = pd.DataFrame(dict)\n",
    "\n",
    "#df"
   ]
  },
  {
   "cell_type": "code",
   "execution_count": 20,
   "metadata": {},
   "outputs": [
    {
     "data": {
      "text/html": [
       "<div>\n",
       "<style scoped>\n",
       "    .dataframe tbody tr th:only-of-type {\n",
       "        vertical-align: middle;\n",
       "    }\n",
       "\n",
       "    .dataframe tbody tr th {\n",
       "        vertical-align: top;\n",
       "    }\n",
       "\n",
       "    .dataframe thead th {\n",
       "        text-align: right;\n",
       "    }\n",
       "</style>\n",
       "<table border=\"1\" class=\"dataframe\">\n",
       "  <thead>\n",
       "    <tr style=\"text-align: right;\">\n",
       "      <th></th>\n",
       "      <th>Headline</th>\n",
       "      <th>URL</th>\n",
       "      <th>Description</th>\n",
       "    </tr>\n",
       "  </thead>\n",
       "  <tbody>\n",
       "    <tr>\n",
       "      <th>0</th>\n",
       "      <td>Police called to Porsche driver’s home</td>\n",
       "      <td>https://www.news.com.au/national/victoria/crim...</td>\n",
       "      <td>Police have been called to Porsche driver Rich...</td>\n",
       "    </tr>\n",
       "    <tr>\n",
       "      <th>1</th>\n",
       "      <td>Family’s plea after horror stabbing</td>\n",
       "      <td>https://www.news.com.au/national/victoria/crim...</td>\n",
       "      <td>The daughter of a man who was stabbed to death...</td>\n",
       "    </tr>\n",
       "    <tr>\n",
       "      <th>2</th>\n",
       "      <td>Doctor traumatised by fatal home birth</td>\n",
       "      <td>https://www.news.com.au/national/victoria/cour...</td>\n",
       "      <td>Two homebirth midwives charged with causing a ...</td>\n",
       "    </tr>\n",
       "    <tr>\n",
       "      <th>3</th>\n",
       "      <td>‘Frightening’ shooting at suburban Macca’s</td>\n",
       "      <td>https://www.news.com.au/national/victoria/cour...</td>\n",
       "      <td>A man has been jailed for a ‘frightening’ act ...</td>\n",
       "    </tr>\n",
       "    <tr>\n",
       "      <th>4</th>\n",
       "      <td>Cops fine ‘all adults’ at synagogue gathering</td>\n",
       "      <td>https://www.news.com.au/national/victoria/crim...</td>\n",
       "      <td>Dozens of Jewish worshippers at a Melbourne sy...</td>\n",
       "    </tr>\n",
       "  </tbody>\n",
       "</table>\n",
       "</div>"
      ],
      "text/plain": [
       "                                        Headline  \\\n",
       "0         Police called to Porsche driver’s home   \n",
       "1            Family’s plea after horror stabbing   \n",
       "2         Doctor traumatised by fatal home birth   \n",
       "3     ‘Frightening’ shooting at suburban Macca’s   \n",
       "4  Cops fine ‘all adults’ at synagogue gathering   \n",
       "\n",
       "                                                 URL  \\\n",
       "0  https://www.news.com.au/national/victoria/crim...   \n",
       "1  https://www.news.com.au/national/victoria/crim...   \n",
       "2  https://www.news.com.au/national/victoria/cour...   \n",
       "3  https://www.news.com.au/national/victoria/cour...   \n",
       "4  https://www.news.com.au/national/victoria/crim...   \n",
       "\n",
       "                                         Description  \n",
       "0  Police have been called to Porsche driver Rich...  \n",
       "1  The daughter of a man who was stabbed to death...  \n",
       "2  Two homebirth midwives charged with causing a ...  \n",
       "3  A man has been jailed for a ‘frightening’ act ...  \n",
       "4  Dozens of Jewish worshippers at a Melbourne sy...  "
      ]
     },
     "execution_count": 20,
     "metadata": {},
     "output_type": "execute_result"
    }
   ],
   "source": [
    "top5 = df.head()\n",
    "top5"
   ]
  },
  {
   "cell_type": "code",
   "execution_count": 24,
   "metadata": {},
   "outputs": [
    {
     "data": {
      "text/plain": [
       "<pymongo.results.InsertManyResult at 0x1fbe9fb2388>"
      ]
     },
     "execution_count": 24,
     "metadata": {},
     "output_type": "execute_result"
    }
   ],
   "source": [
    "top5_dict = json.loads(top5.to_json(orient='records'))\n",
    "\n",
    "db.collection.insert_many(top5_dict)\n",
    "#print(top5_dict)\n",
    "#collection.insert_many({top5_dict})"
   ]
  },
  {
   "cell_type": "code",
   "execution_count": 30,
   "metadata": {},
   "outputs": [
    {
     "data": {
      "text/plain": [
       "<pymongo.cursor.Cursor at 0x1fbe9ff0a58>"
      ]
     },
     "execution_count": 30,
     "metadata": {},
     "output_type": "execute_result"
    }
   ],
   "source": [
    "db.collection.find()\n"
   ]
  }
 ],
 "metadata": {
  "kernelspec": {
   "display_name": "PythonData",
   "language": "python",
   "name": "pythondata"
  },
  "language_info": {
   "codemirror_mode": {
    "name": "ipython",
    "version": 3
   },
   "file_extension": ".py",
   "mimetype": "text/x-python",
   "name": "python",
   "nbconvert_exporter": "python",
   "pygments_lexer": "ipython3",
   "version": "3.6.10"
  }
 },
 "nbformat": 4,
 "nbformat_minor": 4
}
